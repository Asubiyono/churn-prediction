{
 "cells": [
  {
   "cell_type": "code",
   "execution_count": 2,
   "id": "664b1b02-bffe-4b6b-ad1a-b1f167423f65",
   "metadata": {},
   "outputs": [],
   "source": [
    "import pandas as pd\n",
    "import numpy as np\n",
    "import matplotlib.pyplot as plt"
   ]
  },
  {
   "cell_type": "code",
   "execution_count": 3,
   "id": "1a428e28-947d-48e2-96b9-835d7f7bb49d",
   "metadata": {},
   "outputs": [],
   "source": [
    "df=pd.read_csv(\"Telco-Customer-Churn.csv\")"
   ]
  },
  {
   "cell_type": "code",
   "execution_count": 4,
   "id": "dceca12d-bb37-4ed9-982c-124bf6e3af78",
   "metadata": {},
   "outputs": [],
   "source": [
    "y=df.Churn_Yes"
   ]
  },
  {
   "cell_type": "markdown",
   "id": "b0d3702a-6da8-4a5c-8f73-608569857197",
   "metadata": {},
   "source": [
    "### Task 1 : Checking Class Balance: Dependent Variable Bar Graph Analysis"
   ]
  },
  {
   "cell_type": "code",
   "execution_count": 5,
   "id": "3052fcd0-c923-40a8-b62f-d684943d64ce",
   "metadata": {},
   "outputs": [
    {
     "data": {
      "text/plain": [
       "<AxesSubplot:>"
      ]
     },
     "execution_count": 5,
     "metadata": {},
     "output_type": "execute_result"
    },
    {
     "data": {
      "image/png": "[encoded data removed]",
      "text/plain": [
       "<Figure size 640x480 with 1 Axes>"
      ]
     },
     "metadata": {},
     "output_type": "display_data"
    }
   ],
   "source": [
    "y.value_counts().plot.bar()"
   ]
  },
  {
   "cell_type": "markdown",
   "id": "70efb75b-3266-4469-878c-e4d9a8aa92c6",
   "metadata": {},
   "source": [
    "### Task 2 : Handling Class Imbalance with SMOTE"
   ]
  },
  {
   "cell_type": "code",
   "execution_count": 6,
   "id": "be40930d-9724-4adc-b601-f9e5689944b3",
   "metadata": {},
   "outputs": [
    {
     "name": "stdout",
     "output_type": "stream",
     "text": [
      "Original dataset shape: 7043\n",
      "Resampled dataset shape: 11164\n"
     ]
    }
   ],
   "source": [
    "from imblearn.over_sampling import SMOTE\n",
    "smote = SMOTE(random_state=100)\n",
    "x_smote, y_smote = smote.fit_resample(df.iloc[:, 0:-1], df['Churn_Yes'])\n",
    "print('Original dataset shape:', len(df))\n",
    "print('Resampled dataset shape:', len(y_smote))"
   ]
  },
  {
   "cell_type": "markdown",
   "id": "644f3755-a188-4726-885a-667735cc16ee",
   "metadata": {},
   "source": [
    "### Task 3 : Standardization of Customer Churn Independent Variables using Standard Scaler"
   ]
  },
  {
   "cell_type": "code",
   "execution_count": 7,
   "id": "10980f14-a69b-4cca-99f1-424580f5f0b3",
   "metadata": {},
   "outputs": [],
   "source": [
    "from sklearn.preprocessing import StandardScaler\n",
    "sc=StandardScaler()\n",
    "x=sc.fit_transform(x_smote)"
   ]
  },
  {
   "cell_type": "markdown",
   "id": "cdd3b18e-e2c8-45f2-ad75-5c0845ca621b",
   "metadata": {},
   "source": [
    "### Task 4 : Splitting Dataset into Training and Testing Subsets"
   ]
  },
  {
   "cell_type": "code",
   "execution_count": 9,
   "id": "e2943256-a64f-4725-9c35-be643469f4ec",
   "metadata": {},
   "outputs": [],
   "source": [
    "from sklearn.model_selection import train_test_split\n",
    "xtrain, xtest, ytrain, ytest = train_test_split(x, y_smote, train_size=0.7, test_size=0.3, random_state=100)"
   ]
  },
  {
   "cell_type": "markdown",
   "id": "bafdae39-7a98-4737-84eb-c884a5f09fb6",
   "metadata": {},
   "source": [
    "### Task 5 : Training Logistic Regression Model"
   ]
  },
  {
   "cell_type": "code",
   "execution_count": 11,
   "id": "e9eb412c-354f-4a2e-8da2-7e89c09bc809",
   "metadata": {},
   "outputs": [],
   "source": [
    "from sklearn.linear_model import LogisticRegression\n",
    "logreg_model = LogisticRegression(random_state = 100)\n",
    "logreg_model.fit(xtrain, ytrain)\n",
    "ypred_logreg = logreg_model.predict(xtest)"
   ]
  },
  {
   "cell_type": "markdown",
   "id": "336e0b70-f39c-4f03-afb5-a2b523d4fb45",
   "metadata": {},
   "source": [
    "### Training Support Vector Machine Model"
   ]
  },
  {
   "cell_type": "code",
   "execution_count": 12,
   "id": "d2985034-5cbc-47d7-922f-ca076914b6ad",
   "metadata": {},
   "outputs": [],
   "source": [
    "from sklearn.svm import SVC\n",
    "model4 = SVC(kernel=\"rbf\", random_state=100)\n",
    "model4.fit(xtrain, ytrain)\n",
    "ypred_svm = model4.predict(xtest)"
   ]
  },
  {
   "cell_type": "markdown",
   "id": "17b61822-c954-45a2-baa5-19cec128888f",
   "metadata": {},
   "source": [
    "### Training the Decision Tree Model"
   ]
  },
  {
   "cell_type": "code",
   "execution_count": 13,
   "id": "de387189-aceb-4260-9f4a-556d46cb6ec3",
   "metadata": {},
   "outputs": [],
   "source": [
    "from sklearn.tree import DecisionTreeClassifier\n",
    "dt_model = DecisionTreeClassifier(criterion=\"gini\", max_leaf_nodes=50)\n",
    "dt_model.fit(xtrain, ytrain)\n",
    "ypred_dt = dt_model.predict(xtest)"
   ]
  },
  {
   "cell_type": "markdown",
   "id": "fcbd0aca-2795-4589-84d2-6ed6919535d2",
   "metadata": {},
   "source": [
    "### Training the Xgboost Model"
   ]
  },
  {
   "cell_type": "code",
   "execution_count": 14,
   "id": "978132c4-00ff-4b14-9bc3-b9f607d1dd90",
   "metadata": {},
   "outputs": [],
   "source": [
    "from xgboost import XGBClassifier\n",
    "xgb_model = XGBClassifier(max_depth = 2, random_state=100)\n",
    "xgb_model.fit(xtrain, ytrain)\n",
    "ypred_xgb = xgb_model.predict(xtest)"
   ]
  },
  {
   "cell_type": "markdown",
   "id": "2ad9f43e-4fef-4b77-9a60-fd9fcfcc9378",
   "metadata": {},
   "source": [
    "### Evaluation Performance of Each Model on Test Dataset"
   ]
  },
  {
   "cell_type": "code",
   "execution_count": 15,
   "id": "fe3e3b42-aedf-497c-abef-35cfe2886302",
   "metadata": {},
   "outputs": [],
   "source": [
    "from sklearn.metrics import confusion_matrix"
   ]
  },
  {
   "cell_type": "code",
   "execution_count": 16,
   "id": "8989c6ef-7603-4325-8b01-bafa69b64d5b",
   "metadata": {},
   "outputs": [
    {
     "data": {
      "text/plain": [
       "array([[1357,  317],\n",
       "       [ 233, 1443]])"
      ]
     },
     "execution_count": 16,
     "metadata": {},
     "output_type": "execute_result"
    }
   ],
   "source": [
    "cm1 = confusion_matrix(ytest, ypred_logreg)\n",
    "cm1"
   ]
  },
  {
   "cell_type": "code",
   "execution_count": 17,
   "id": "ddc10c7d-b620-4c63-befa-aaf48287465c",
   "metadata": {},
   "outputs": [
    {
     "data": {
      "text/plain": [
       "array([[1379,  295],\n",
       "       [ 233, 1443]])"
      ]
     },
     "execution_count": 17,
     "metadata": {},
     "output_type": "execute_result"
    }
   ],
   "source": [
    "cm2 = confusion_matrix(ytest, ypred_svm)\n",
    "cm2"
   ]
  },
  {
   "cell_type": "code",
   "execution_count": 18,
   "id": "169f17d4-8a07-4022-b47e-110fc25512c4",
   "metadata": {},
   "outputs": [
    {
     "data": {
      "text/plain": [
       "array([[1351,  323],\n",
       "       [ 289, 1387]])"
      ]
     },
     "execution_count": 18,
     "metadata": {},
     "output_type": "execute_result"
    }
   ],
   "source": [
    "cm3 = confusion_matrix(ytest, ypred_dt)\n",
    "cm3"
   ]
  },
  {
   "cell_type": "code",
   "execution_count": 19,
   "id": "89b27691-a1fd-4a0b-bcde-4a9941e3ca79",
   "metadata": {},
   "outputs": [
    {
     "data": {
      "text/plain": [
       "array([[1372,  302],\n",
       "       [ 213, 1463]])"
      ]
     },
     "execution_count": 19,
     "metadata": {},
     "output_type": "execute_result"
    }
   ],
   "source": [
    "cm4 = confusion_matrix(ytest, ypred_xgb)\n",
    "cm4"
   ]
  },
  {
   "cell_type": "markdown",
   "id": "118853cd-6ffc-4a05-8b3e-ec15fd6b2bf5",
   "metadata": {},
   "source": [
    "### Evaluate Each Model on Test Dataset Using Accuracy Score"
   ]
  },
  {
   "cell_type": "code",
   "execution_count": 21,
   "id": "d9d1f886-f545-4645-a0f7-8dfdcc68b0e5",
   "metadata": {},
   "outputs": [],
   "source": [
    "from sklearn.metrics import accuracy_score"
   ]
  },
  {
   "cell_type": "code",
   "execution_count": 22,
   "id": "9f9efa13-37d6-4f4b-8025-c5e291bff171",
   "metadata": {},
   "outputs": [
    {
     "data": {
      "text/plain": [
       "0.835820895522388"
      ]
     },
     "execution_count": 22,
     "metadata": {},
     "output_type": "execute_result"
    }
   ],
   "source": [
    "ac1 = accuracy_score(ytest, ypred_logreg)\n",
    "ac1"
   ]
  },
  {
   "cell_type": "code",
   "execution_count": 23,
   "id": "ebe581fe-b7a4-4793-ba28-ea3ae1698f79",
   "metadata": {},
   "outputs": [
    {
     "data": {
      "text/plain": [
       "0.8423880597014926"
      ]
     },
     "execution_count": 23,
     "metadata": {},
     "output_type": "execute_result"
    }
   ],
   "source": [
    "ac2 = accuracy_score(ytest, ypred_svm)\n",
    "ac2"
   ]
  },
  {
   "cell_type": "code",
   "execution_count": 24,
   "id": "94577fed-c7d5-49be-a631-73d6a7dd5f6d",
   "metadata": {},
   "outputs": [
    {
     "data": {
      "text/plain": [
       "0.8173134328358209"
      ]
     },
     "execution_count": 24,
     "metadata": {},
     "output_type": "execute_result"
    }
   ],
   "source": [
    "ac3 = accuracy_score(ytest, ypred_dt)\n",
    "ac3"
   ]
  },
  {
   "cell_type": "code",
   "execution_count": 25,
   "id": "ff6d5d1b-c3c7-497e-836e-0ab7f3de6904",
   "metadata": {},
   "outputs": [
    {
     "data": {
      "text/plain": [
       "0.8462686567164179"
      ]
     },
     "execution_count": 25,
     "metadata": {},
     "output_type": "execute_result"
    }
   ],
   "source": [
    "ac4 = accuracy_score(ytest, ypred_xgb)\n",
    "ac4"
   ]
  },
  {
   "cell_type": "markdown",
   "id": "6fef7d4a-0bdd-405c-b731-f53ecbe8345b",
   "metadata": {},
   "source": [
    "### Hyperparameter Tuning for Xgboost Model using Grid Search CV"
   ]
  },
  {
   "cell_type": "code",
   "execution_count": 26,
   "id": "37c8d5d3-a43a-4eee-8ad8-281209ba3eed",
   "metadata": {},
   "outputs": [
    {
     "name": "stdout",
     "output_type": "stream",
     "text": [
      "{'learning_rate': 0.1, 'max_depth': 7, 'n_estimators': 300, 'subsample': 0.9}\n"
     ]
    }
   ],
   "source": [
    "from sklearn.model_selection import GridSearchCV\n",
    "model = XGBClassifier()\n",
    "param_grid = {\n",
    "'learning_rate': [0.1, 0.01],\n",
    "'max_depth': [5, 7],\n",
    "'n_estimators': [200, 300,],\n",
    "'subsample': [0.8, 0.9]\n",
    "}\n",
    "grid_search = GridSearchCV(model, param_grid, cv=5)\n",
    "grid_search.fit(xtrain, ytrain)\n",
    "print(grid_search.best_params_)"
   ]
  },
  {
   "cell_type": "code",
   "execution_count": 27,
   "id": "1657c833-78f3-46e5-8249-04fce18033e8",
   "metadata": {},
   "outputs": [],
   "source": [
    "xgb_model_hp = XGBClassifier(learning_rate=0.1, max_depth= 7, n_estimators =300, subsample=0.9,random_state = 100)\n",
    "xgb_model_hp.fit(xtrain, ytrain)\n",
    "\n",
    "ypred_xgb_hp=xgb_model_hp.predict(xtest)\n",
    "y_pred_proba_xgb_hp = xgb_model_hp.predict_proba(xtest)[:, 1]"
   ]
  },
  {
   "cell_type": "markdown",
   "id": "a5f9e2c8-e073-4819-9168-aebc3de346a1",
   "metadata": {},
   "source": [
    "### Evaluate the Performance of the Best Xgboost Model"
   ]
  },
  {
   "cell_type": "code",
   "execution_count": 28,
   "id": "b56c1413-d441-4d0f-9230-084af41c25eb",
   "metadata": {},
   "outputs": [],
   "source": [
    "from sklearn.metrics import roc_curve,roc_auc_score"
   ]
  },
  {
   "cell_type": "code",
   "execution_count": 29,
   "id": "11c170da-6e56-4dde-98d7-34a00c804ddf",
   "metadata": {},
   "outputs": [
    {
     "data": {
      "text/plain": [
       "array([[1440,  234],\n",
       "       [ 192, 1484]])"
      ]
     },
     "execution_count": 29,
     "metadata": {},
     "output_type": "execute_result"
    }
   ],
   "source": [
    "cm5=confusion_matrix(ytest ,ypred_xgb_hp)\n",
    "cm5"
   ]
  },
  {
   "cell_type": "code",
   "execution_count": 30,
   "id": "daab2344-8340-48e7-ad6d-f4d137db5acf",
   "metadata": {},
   "outputs": [
    {
     "name": "stdout",
     "output_type": "stream",
     "text": [
      "0.8580755515469363\n"
     ]
    }
   ],
   "source": [
    "print(grid_search.best_score_)"
   ]
  },
  {
   "cell_type": "code",
   "execution_count": 31,
   "id": "cc4b0931-e261-4eee-b6ee-938c82f720f9",
   "metadata": {},
   "outputs": [
    {
     "data": {
      "text/plain": [
       "[<matplotlib.lines.Line2D at 0x7f8e0da98bb0>]"
      ]
     },
     "execution_count": 31,
     "metadata": {},
     "output_type": "execute_result"
    },
    {
     "data": {
      "image/png": "[encoded data removed]",
      "text/plain": [
       "<Figure size 640x480 with 1 Axes>"
      ]
     },
     "metadata": {},
     "output_type": "display_data"
    }
   ],
   "source": [
    "xgb_auc = roc_auc_score(ytest, y_pred_proba_xgb_hp)\n",
    "xgb_fpr, xgb_tpr, _ = roc_curve(ytest, y_pred_proba_xgb_hp)\n",
    "plt.plot(xgb_fpr, xgb_tpr, label='XGBoost (AUC = %.2f)' % xgb_auc)"
   ]
  }
 ],
 "metadata": {
  "kernelspec": {
   "display_name": "Python 3 (ipykernel)",
   "language": "python",
   "name": "python3"
  },
  "language_info": {
   "codemirror_mode": {
    "name": "ipython",
    "version": 3
   },
   "file_extension": ".py",
   "mimetype": "text/x-python",
   "name": "python",
   "nbconvert_exporter": "python",
   "pygments_lexer": "ipython3",
   "version": "3.8.10"
  }
 },
 "nbformat": 4,
 "nbformat_minor": 5
}
